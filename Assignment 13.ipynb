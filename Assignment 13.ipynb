{
 "cells": [
  {
   "cell_type": "markdown",
   "id": "7643a3a8",
   "metadata": {},
   "source": [
    "#### 1. What advantages do Excel spreadsheets have over CSV spreadsheets?\n",
    "\n",
    "Ans : Excel is more superior when compared with the CSV file format; thus, CSV consumes less amount of file size when the user is importing data; it is a much faster format compared to excel. CSV does not manipulate data and stores it as-is. Excel also allows the user the add-in feature."
   ]
  },
  {
   "cell_type": "markdown",
   "id": "1e9a7f42",
   "metadata": {},
   "source": [
    "#### 2.What do you pass to csv.reader() and csv.writer() to create reader and writer objects?\n",
    "\n",
    "Ans : The csv. writer() function returns a writer object that converts the user's data into a delimited string. This string can later be used to write into CSV files using the writerow() function."
   ]
  },
  {
   "cell_type": "markdown",
   "id": "348ca01f",
   "metadata": {},
   "source": [
    "#### 3. What modes do File objects for reader and writer objects need to be opened in?\n",
    "\n",
    "Ans : In order to open a file for reading or writing purposes, we must use the built-in open() function. The open() function uses two arguments. First is the name of the file and second is for what purpose we want to open it ."
   ]
  },
  {
   "cell_type": "markdown",
   "id": "e424955d",
   "metadata": {},
   "source": [
    "#### 4. What method takes a list argument and writes it to a CSV file?\n",
    "\n",
    "Ans : writerows()\n",
    "    \n",
    "This function takes a list of iterables as parameter and writes each item as a comma separated line of items in the file"
   ]
  },
  {
   "cell_type": "markdown",
   "id": "6772b320",
   "metadata": {},
   "source": [
    "#### 5. What do the keyword arguments delimiter and line terminator do?\n",
    "\n",
    "Ans : The delimiter and lineterminator Keyword Arguments\n",
    "    \n",
    "This changes the delimiter and line terminator characters in your file. The delimiter is the character that appears between cells on a row. By default, the delimiter for a CSV file is a comma. The line terminator is the character that comes at the end of a row."
   ]
  },
  {
   "cell_type": "markdown",
   "id": "d6efd8db",
   "metadata": {},
   "source": [
    "#### 6. What function takes a string of JSON data and returns a Python data structure?\n",
    "\n",
    "Ans : loads() method return Python data structure of JSON string or data."
   ]
  },
  {
   "cell_type": "markdown",
   "id": "6af0a48e",
   "metadata": {},
   "source": [
    "#### 7. What function takes a Python data structure and returns a string of JSON data?\n",
    "\n",
    "Ans : json.dumps() return Python data structure and returns a string of JSON data"
   ]
  },
  {
   "cell_type": "code",
   "execution_count": null,
   "id": "eda3c8d4",
   "metadata": {},
   "outputs": [],
   "source": []
  }
 ],
 "metadata": {
  "kernelspec": {
   "display_name": "Python 3 (ipykernel)",
   "language": "python",
   "name": "python3"
  },
  "language_info": {
   "codemirror_mode": {
    "name": "ipython",
    "version": 3
   },
   "file_extension": ".py",
   "mimetype": "text/x-python",
   "name": "python",
   "nbconvert_exporter": "python",
   "pygments_lexer": "ipython3",
   "version": "3.9.12"
  }
 },
 "nbformat": 4,
 "nbformat_minor": 5
}
